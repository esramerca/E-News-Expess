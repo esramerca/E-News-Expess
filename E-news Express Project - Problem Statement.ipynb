{
 "cells": [
  {
   "cell_type": "markdown",
   "id": "ed9a3d5e",
   "metadata": {},
   "source": [
    "Description\n",
    "Background: \n",
    "\n",
    "An online news portal aims to expand its business by acquiring new subscribers. Every visitor to the website takes certain actions based on their interest. The company plans to analyze these interests and wants to determine whether a new feature will be effective or not. Companies often analyze users' responses to two variants of a product to decide which of the two variants is more effective. This experimental technique is known as a/b testing that is used to determine whether a new feature attracts users based on a chosen metric.\n",
    "\n",
    "Suppose you are hired as a Data Scientist in E-news Express. The design team of the company has created a new landing page. You have been assigned the task to decide whether the new landing page is more effective to gather new subscribers. Suppose you randomly selected 100 users and divided them equally into two groups. The old landing page is served to the first group (control group) and the new landing page is served to the second group (treatment group). Various data about the customers in both groups are collected in 'abtest.csv'. Perform the statistical analysis to answer the following questions using the collected data.\n",
    "\n",
    "Objective:\n",
    "\n",
    "Statistical analysis of business data. Explore the dataset and extract insights from the data. The idea is for you to get comfortable with doing statistical analysis in Python.\n",
    "\n",
    "You are expected to perform the statistical analysis to answer the following questions:\n",
    "\n",
    "Explore the dataset and extract insights using Exploratory Data Analysis.\n",
    "Do the users spend more time on the new landing page than the old landing page?\n",
    "Is the conversion rate (the proportion of users who visit the landing page and get converted) for the new page greater than the conversion rate for the old page?\n",
    "Does the converted status depend on the preferred language? [Hint: Create a contingency table using the pandas.crosstab() function]\n",
    "Is the mean time spent on the new page same for the different language users?\n",
    "*Consider a significance level of 0.05 for all tests.\n",
    "\n",
    "Data Dictionary:\n",
    "\n",
    "user_id - This represents the user ID of the person visiting the website.\n",
    "group - This represents whether the user belongs to the first group (control) or the second group (treatment).\n",
    "landing_page - This represents whether the landing page is new or old.\n",
    "time_spent_on_the_page - This represents the time (in minutes) spent by the user on the landing page.\n",
    "converted - This represents whether the user gets converted to a subscriber of the news portal or not.\n",
    "language_preferred - This represents the language chosen by the user to view the landing page."
   ]
  },
  {
   "cell_type": "code",
   "execution_count": 1,
   "id": "d7211a6b",
   "metadata": {},
   "outputs": [],
   "source": [
    "import pandas as pd #library used for data manipulation and analysis\n",
    "import numpy as np # library used for working with arrays.\n",
    "import matplotlib.pyplot as plt # library for plots and visualisations\n",
    "import seaborn as sns # library for visualisations\n",
    "%matplotlib inline \n",
    "\n",
    "import scipy.stats as stats # this library contains a large number of probability distributions as well as a growing library of statistical functions."
   ]
  },
  {
   "cell_type": "code",
   "execution_count": 2,
   "id": "e82526fe",
   "metadata": {},
   "outputs": [
    {
     "data": {
      "text/html": [
       "<div>\n",
       "<style scoped>\n",
       "    .dataframe tbody tr th:only-of-type {\n",
       "        vertical-align: middle;\n",
       "    }\n",
       "\n",
       "    .dataframe tbody tr th {\n",
       "        vertical-align: top;\n",
       "    }\n",
       "\n",
       "    .dataframe thead th {\n",
       "        text-align: right;\n",
       "    }\n",
       "</style>\n",
       "<table border=\"1\" class=\"dataframe\">\n",
       "  <thead>\n",
       "    <tr style=\"text-align: right;\">\n",
       "      <th></th>\n",
       "      <th>user_id</th>\n",
       "      <th>group</th>\n",
       "      <th>landing_page</th>\n",
       "      <th>time_spent_on_the_page</th>\n",
       "      <th>converted</th>\n",
       "      <th>language_preferred</th>\n",
       "    </tr>\n",
       "  </thead>\n",
       "  <tbody>\n",
       "    <tr>\n",
       "      <th>0</th>\n",
       "      <td>546592</td>\n",
       "      <td>control</td>\n",
       "      <td>old</td>\n",
       "      <td>3.48</td>\n",
       "      <td>no</td>\n",
       "      <td>Spanish</td>\n",
       "    </tr>\n",
       "    <tr>\n",
       "      <th>1</th>\n",
       "      <td>546468</td>\n",
       "      <td>treatment</td>\n",
       "      <td>new</td>\n",
       "      <td>7.13</td>\n",
       "      <td>yes</td>\n",
       "      <td>English</td>\n",
       "    </tr>\n",
       "    <tr>\n",
       "      <th>2</th>\n",
       "      <td>546462</td>\n",
       "      <td>treatment</td>\n",
       "      <td>new</td>\n",
       "      <td>4.40</td>\n",
       "      <td>no</td>\n",
       "      <td>Spanish</td>\n",
       "    </tr>\n",
       "    <tr>\n",
       "      <th>3</th>\n",
       "      <td>546567</td>\n",
       "      <td>control</td>\n",
       "      <td>old</td>\n",
       "      <td>3.02</td>\n",
       "      <td>no</td>\n",
       "      <td>French</td>\n",
       "    </tr>\n",
       "    <tr>\n",
       "      <th>4</th>\n",
       "      <td>546459</td>\n",
       "      <td>treatment</td>\n",
       "      <td>new</td>\n",
       "      <td>4.75</td>\n",
       "      <td>yes</td>\n",
       "      <td>Spanish</td>\n",
       "    </tr>\n",
       "  </tbody>\n",
       "</table>\n",
       "</div>"
      ],
      "text/plain": [
       "   user_id      group landing_page  time_spent_on_the_page converted  \\\n",
       "0   546592    control          old                    3.48        no   \n",
       "1   546468  treatment          new                    7.13       yes   \n",
       "2   546462  treatment          new                    4.40        no   \n",
       "3   546567    control          old                    3.02        no   \n",
       "4   546459  treatment          new                    4.75       yes   \n",
       "\n",
       "  language_preferred  \n",
       "0            Spanish  \n",
       "1            English  \n",
       "2            Spanish  \n",
       "3             French  \n",
       "4            Spanish  "
      ]
     },
     "execution_count": 2,
     "metadata": {},
     "output_type": "execute_result"
    }
   ],
   "source": [
    "abtest=pd.read_csv('abtest.csv')\n",
    "abtest.head()"
   ]
  },
  {
   "cell_type": "code",
   "execution_count": 3,
   "id": "28eb776a",
   "metadata": {},
   "outputs": [
    {
     "data": {
      "text/html": [
       "<div>\n",
       "<style scoped>\n",
       "    .dataframe tbody tr th:only-of-type {\n",
       "        vertical-align: middle;\n",
       "    }\n",
       "\n",
       "    .dataframe tbody tr th {\n",
       "        vertical-align: top;\n",
       "    }\n",
       "\n",
       "    .dataframe thead th {\n",
       "        text-align: right;\n",
       "    }\n",
       "</style>\n",
       "<table border=\"1\" class=\"dataframe\">\n",
       "  <thead>\n",
       "    <tr style=\"text-align: right;\">\n",
       "      <th></th>\n",
       "      <th>user_id</th>\n",
       "      <th>time_spent_on_the_page</th>\n",
       "    </tr>\n",
       "  </thead>\n",
       "  <tbody>\n",
       "    <tr>\n",
       "      <th>count</th>\n",
       "      <td>100.000000</td>\n",
       "      <td>100.000000</td>\n",
       "    </tr>\n",
       "    <tr>\n",
       "      <th>mean</th>\n",
       "      <td>546517.000000</td>\n",
       "      <td>5.377800</td>\n",
       "    </tr>\n",
       "    <tr>\n",
       "      <th>std</th>\n",
       "      <td>52.295779</td>\n",
       "      <td>2.378166</td>\n",
       "    </tr>\n",
       "    <tr>\n",
       "      <th>min</th>\n",
       "      <td>546443.000000</td>\n",
       "      <td>0.190000</td>\n",
       "    </tr>\n",
       "    <tr>\n",
       "      <th>25%</th>\n",
       "      <td>546467.750000</td>\n",
       "      <td>3.880000</td>\n",
       "    </tr>\n",
       "    <tr>\n",
       "      <th>50%</th>\n",
       "      <td>546492.500000</td>\n",
       "      <td>5.415000</td>\n",
       "    </tr>\n",
       "    <tr>\n",
       "      <th>75%</th>\n",
       "      <td>546567.250000</td>\n",
       "      <td>7.022500</td>\n",
       "    </tr>\n",
       "    <tr>\n",
       "      <th>max</th>\n",
       "      <td>546592.000000</td>\n",
       "      <td>10.710000</td>\n",
       "    </tr>\n",
       "  </tbody>\n",
       "</table>\n",
       "</div>"
      ],
      "text/plain": [
       "             user_id  time_spent_on_the_page\n",
       "count     100.000000              100.000000\n",
       "mean   546517.000000                5.377800\n",
       "std        52.295779                2.378166\n",
       "min    546443.000000                0.190000\n",
       "25%    546467.750000                3.880000\n",
       "50%    546492.500000                5.415000\n",
       "75%    546567.250000                7.022500\n",
       "max    546592.000000               10.710000"
      ]
     },
     "execution_count": 3,
     "metadata": {},
     "output_type": "execute_result"
    }
   ],
   "source": [
    "abtest.describe()"
   ]
  },
  {
   "cell_type": "code",
   "execution_count": 4,
   "id": "5eb8266e",
   "metadata": {},
   "outputs": [
    {
     "name": "stdout",
     "output_type": "stream",
     "text": [
      "<class 'pandas.core.frame.DataFrame'>\n",
      "RangeIndex: 100 entries, 0 to 99\n",
      "Data columns (total 6 columns):\n",
      " #   Column                  Non-Null Count  Dtype  \n",
      "---  ------                  --------------  -----  \n",
      " 0   user_id                 100 non-null    int64  \n",
      " 1   group                   100 non-null    object \n",
      " 2   landing_page            100 non-null    object \n",
      " 3   time_spent_on_the_page  100 non-null    float64\n",
      " 4   converted               100 non-null    object \n",
      " 5   language_preferred      100 non-null    object \n",
      "dtypes: float64(1), int64(1), object(4)\n",
      "memory usage: 4.8+ KB\n"
     ]
    }
   ],
   "source": [
    "abtest.info()"
   ]
  },
  {
   "cell_type": "code",
   "execution_count": 5,
   "id": "9b7183ec",
   "metadata": {},
   "outputs": [
    {
     "name": "stdout",
     "output_type": "stream",
     "text": [
      "Requirement already satisfied: scipy==1.6.1 in c:\\users\\esra\\anaconda3\\lib\\site-packages (1.6.1)\n",
      "Requirement already satisfied: numpy>=1.16.5 in c:\\users\\esra\\anaconda3\\lib\\site-packages (from scipy==1.6.1) (1.20.1)\n"
     ]
    }
   ],
   "source": [
    "!pip install scipy==1.6.1"
   ]
  },
  {
   "cell_type": "code",
   "execution_count": 13,
   "id": "8e05a768",
   "metadata": {},
   "outputs": [
    {
     "data": {
      "text/plain": [
       "array(['control', 'treatment'], dtype=object)"
      ]
     },
     "execution_count": 13,
     "metadata": {},
     "output_type": "execute_result"
    }
   ],
   "source": [
    "abtest.group.unique()"
   ]
  },
  {
   "cell_type": "code",
   "execution_count": 14,
   "id": "0121dc14",
   "metadata": {},
   "outputs": [
    {
     "data": {
      "text/plain": [
       "array(['old', 'new'], dtype=object)"
      ]
     },
     "execution_count": 14,
     "metadata": {},
     "output_type": "execute_result"
    }
   ],
   "source": [
    "abtest.landing_page.unique()"
   ]
  },
  {
   "cell_type": "code",
   "execution_count": 15,
   "id": "3579b517",
   "metadata": {},
   "outputs": [
    {
     "data": {
      "text/html": [
       "<div>\n",
       "<style scoped>\n",
       "    .dataframe tbody tr th:only-of-type {\n",
       "        vertical-align: middle;\n",
       "    }\n",
       "\n",
       "    .dataframe tbody tr th {\n",
       "        vertical-align: top;\n",
       "    }\n",
       "\n",
       "    .dataframe thead th {\n",
       "        text-align: right;\n",
       "    }\n",
       "</style>\n",
       "<table border=\"1\" class=\"dataframe\">\n",
       "  <thead>\n",
       "    <tr style=\"text-align: right;\">\n",
       "      <th></th>\n",
       "      <th>user_id</th>\n",
       "      <th>landing_page</th>\n",
       "      <th>time_spent_on_the_page</th>\n",
       "      <th>converted</th>\n",
       "      <th>language_preferred</th>\n",
       "    </tr>\n",
       "    <tr>\n",
       "      <th>group</th>\n",
       "      <th></th>\n",
       "      <th></th>\n",
       "      <th></th>\n",
       "      <th></th>\n",
       "      <th></th>\n",
       "    </tr>\n",
       "  </thead>\n",
       "  <tbody>\n",
       "    <tr>\n",
       "      <th>control</th>\n",
       "      <td>50</td>\n",
       "      <td>50</td>\n",
       "      <td>50</td>\n",
       "      <td>50</td>\n",
       "      <td>50</td>\n",
       "    </tr>\n",
       "    <tr>\n",
       "      <th>treatment</th>\n",
       "      <td>50</td>\n",
       "      <td>50</td>\n",
       "      <td>50</td>\n",
       "      <td>50</td>\n",
       "      <td>50</td>\n",
       "    </tr>\n",
       "  </tbody>\n",
       "</table>\n",
       "</div>"
      ],
      "text/plain": [
       "           user_id  landing_page  time_spent_on_the_page  converted  \\\n",
       "group                                                                 \n",
       "control         50            50                      50         50   \n",
       "treatment       50            50                      50         50   \n",
       "\n",
       "           language_preferred  \n",
       "group                          \n",
       "control                    50  \n",
       "treatment                  50  "
      ]
     },
     "execution_count": 15,
     "metadata": {},
     "output_type": "execute_result"
    }
   ],
   "source": [
    "abtest.groupby('group').count()"
   ]
  },
  {
   "cell_type": "code",
   "execution_count": 90,
   "id": "f7eaf760",
   "metadata": {},
   "outputs": [
    {
     "data": {
      "text/html": [
       "<div>\n",
       "<style scoped>\n",
       "    .dataframe tbody tr th:only-of-type {\n",
       "        vertical-align: middle;\n",
       "    }\n",
       "\n",
       "    .dataframe tbody tr th {\n",
       "        vertical-align: top;\n",
       "    }\n",
       "\n",
       "    .dataframe thead th {\n",
       "        text-align: right;\n",
       "    }\n",
       "</style>\n",
       "<table border=\"1\" class=\"dataframe\">\n",
       "  <thead>\n",
       "    <tr style=\"text-align: right;\">\n",
       "      <th>landing_page</th>\n",
       "      <th>new</th>\n",
       "      <th>old</th>\n",
       "    </tr>\n",
       "    <tr>\n",
       "      <th>group</th>\n",
       "      <th></th>\n",
       "      <th></th>\n",
       "    </tr>\n",
       "  </thead>\n",
       "  <tbody>\n",
       "    <tr>\n",
       "      <th>control</th>\n",
       "      <td>0</td>\n",
       "      <td>50</td>\n",
       "    </tr>\n",
       "    <tr>\n",
       "      <th>treatment</th>\n",
       "      <td>50</td>\n",
       "      <td>0</td>\n",
       "    </tr>\n",
       "  </tbody>\n",
       "</table>\n",
       "</div>"
      ],
      "text/plain": [
       "landing_page  new  old\n",
       "group                 \n",
       "control         0   50\n",
       "treatment      50    0"
      ]
     },
     "execution_count": 90,
     "metadata": {},
     "output_type": "execute_result"
    }
   ],
   "source": [
    "pd.crosstab(abtest.group,abtest.landing_page)"
   ]
  },
  {
   "cell_type": "code",
   "execution_count": 97,
   "id": "8fa18c96",
   "metadata": {},
   "outputs": [
    {
     "data": {
      "text/html": [
       "<div>\n",
       "<style scoped>\n",
       "    .dataframe tbody tr th:only-of-type {\n",
       "        vertical-align: middle;\n",
       "    }\n",
       "\n",
       "    .dataframe tbody tr th {\n",
       "        vertical-align: top;\n",
       "    }\n",
       "\n",
       "    .dataframe thead th {\n",
       "        text-align: right;\n",
       "    }\n",
       "</style>\n",
       "<table border=\"1\" class=\"dataframe\">\n",
       "  <thead>\n",
       "    <tr style=\"text-align: right;\">\n",
       "      <th>landing_page</th>\n",
       "      <th>new</th>\n",
       "      <th>old</th>\n",
       "    </tr>\n",
       "    <tr>\n",
       "      <th>time_spent_on_the_page</th>\n",
       "      <th></th>\n",
       "      <th></th>\n",
       "    </tr>\n",
       "  </thead>\n",
       "  <tbody>\n",
       "    <tr>\n",
       "      <th>0.19</th>\n",
       "      <td>0</td>\n",
       "      <td>1</td>\n",
       "    </tr>\n",
       "    <tr>\n",
       "      <th>0.22</th>\n",
       "      <td>0</td>\n",
       "      <td>1</td>\n",
       "    </tr>\n",
       "    <tr>\n",
       "      <th>0.40</th>\n",
       "      <td>0</td>\n",
       "      <td>2</td>\n",
       "    </tr>\n",
       "    <tr>\n",
       "      <th>0.91</th>\n",
       "      <td>0</td>\n",
       "      <td>1</td>\n",
       "    </tr>\n",
       "    <tr>\n",
       "      <th>0.93</th>\n",
       "      <td>0</td>\n",
       "      <td>1</td>\n",
       "    </tr>\n",
       "    <tr>\n",
       "      <th>...</th>\n",
       "      <td>...</td>\n",
       "      <td>...</td>\n",
       "    </tr>\n",
       "    <tr>\n",
       "      <th>9.15</th>\n",
       "      <td>0</td>\n",
       "      <td>1</td>\n",
       "    </tr>\n",
       "    <tr>\n",
       "      <th>9.49</th>\n",
       "      <td>1</td>\n",
       "      <td>0</td>\n",
       "    </tr>\n",
       "    <tr>\n",
       "      <th>10.30</th>\n",
       "      <td>0</td>\n",
       "      <td>1</td>\n",
       "    </tr>\n",
       "    <tr>\n",
       "      <th>10.50</th>\n",
       "      <td>1</td>\n",
       "      <td>0</td>\n",
       "    </tr>\n",
       "    <tr>\n",
       "      <th>10.71</th>\n",
       "      <td>1</td>\n",
       "      <td>0</td>\n",
       "    </tr>\n",
       "  </tbody>\n",
       "</table>\n",
       "<p>94 rows × 2 columns</p>\n",
       "</div>"
      ],
      "text/plain": [
       "landing_page            new  old\n",
       "time_spent_on_the_page          \n",
       "0.19                      0    1\n",
       "0.22                      0    1\n",
       "0.40                      0    2\n",
       "0.91                      0    1\n",
       "0.93                      0    1\n",
       "...                     ...  ...\n",
       "9.15                      0    1\n",
       "9.49                      1    0\n",
       "10.30                     0    1\n",
       "10.50                     1    0\n",
       "10.71                     1    0\n",
       "\n",
       "[94 rows x 2 columns]"
      ]
     },
     "execution_count": 97,
     "metadata": {},
     "output_type": "execute_result"
    }
   ],
   "source": [
    "pd.crosstab(abtest.time_spent_on_the_page,abtest.landing_page)\n"
   ]
  },
  {
   "cell_type": "code",
   "execution_count": 98,
   "id": "efc66d48",
   "metadata": {},
   "outputs": [],
   "source": [
    "b=pd.crosstab(abtest.time_spent_on_the_page,abtest.landing_page)"
   ]
  },
  {
   "cell_type": "markdown",
   "id": "8f852832",
   "metadata": {},
   "source": [
    "### Let's write the null and alternative hypothesis\n",
    "Let  𝜇1, 𝜇2  be the mean the users spend time on the new landing page and the old landing page respectively.\n",
    "\n",
    "We will test the null hypothesis\n",
    "\n",
    "𝐻0: 𝜇1=𝜇2 \n",
    "against the alternate hypothesis\n",
    "\n",
    "𝐻𝑎: 𝜇1>𝜇2\n",
    "\n",
    "Test at 0.05 level of significance whether the data provide sufficient evidence to conclude that the users spend more time on the new landing page than the old landing page"
   ]
  },
  {
   "cell_type": "code",
   "execution_count": 6,
   "id": "6a8693a9",
   "metadata": {
    "scrolled": true
   },
   "outputs": [
    {
     "data": {
      "image/png": "[encoded data removed]",
      "text/plain": [
       "<Figure size 432x288 with 1 Axes>"
      ]
     },
     "metadata": {
      "needs_background": "light"
     },
     "output_type": "display_data"
    }
   ],
   "source": [
    "sns.boxplot(x=\"landing_page\", y=\"time_spent_on_the_page\", data = abtest)\n",
    "plt.grid()\n",
    "plt.show()"
   ]
  },
  {
   "cell_type": "code",
   "execution_count": 7,
   "id": "f78b6447",
   "metadata": {},
   "outputs": [],
   "source": [
    "time_spent_on_the_page=abtest['time_spent_on_the_page']"
   ]
  },
  {
   "cell_type": "code",
   "execution_count": 8,
   "id": "78b790da",
   "metadata": {},
   "outputs": [],
   "source": [
    "landing_page_old=abtest[abtest['landing_page']=='old']['landing_page']\n",
    "landing_page_new=abtest[abtest['landing_page']=='new']['landing_page']"
   ]
  },
  {
   "cell_type": "code",
   "execution_count": 9,
   "id": "d2391aed",
   "metadata": {},
   "outputs": [
    {
     "name": "stdout",
     "output_type": "stream",
     "text": [
      "landing_page\n",
      "new    6.2232\n",
      "old    4.5324\n",
      "Name: time_spent_on_the_page, dtype: float64\n"
     ]
    }
   ],
   "source": [
    "print(abtest.groupby(\"landing_page\")[\"time_spent_on_the_page\"].mean())"
   ]
  },
  {
   "cell_type": "code",
   "execution_count": 10,
   "id": "a0acec3d",
   "metadata": {},
   "outputs": [
    {
     "name": "stdout",
     "output_type": "stream",
     "text": [
      "landing_page\n",
      "new    1.817031\n",
      "old    2.581975\n",
      "Name: time_spent_on_the_page, dtype: float64\n"
     ]
    }
   ],
   "source": [
    "print(abtest.groupby(\"landing_page\")[\"time_spent_on_the_page\"].std())"
   ]
  },
  {
   "cell_type": "code",
   "execution_count": 87,
   "id": "9ad2a09a",
   "metadata": {},
   "outputs": [
    {
     "name": "stdout",
     "output_type": "stream",
     "text": [
      "The p-value is  0.5\n"
     ]
    }
   ],
   "source": [
    "from scipy.stats import ttest_ind\n",
    "\n",
    "# find the p-value\n",
    "test_stat, p_value = ttest_ind(abtest.groupby(\"landing_page\")[\"time_spent_on_the_page\"].mean(), abtest['time_spent_on_the_page'].dropna(), equal_var = False, alternative = 'greater')\n",
    "print('The p-value is ', p_value)"
   ]
  },
  {
   "cell_type": "code",
   "execution_count": 100,
   "id": "8ab1682e",
   "metadata": {},
   "outputs": [
    {
     "name": "stdout",
     "output_type": "stream",
     "text": [
      "The p-value is  0.5\n"
     ]
    }
   ],
   "source": [
    "test_stat, p_value = ttest_ind(b['new'], b['old'], equal_var = False, alternative = 'greater')\n",
    "print('The p-value is ', p_value)"
   ]
  },
  {
   "cell_type": "code",
   "execution_count": 20,
   "id": "499bcdd2",
   "metadata": {},
   "outputs": [
    {
     "name": "stdout",
     "output_type": "stream",
     "text": [
      "The p-value is  0.4999999999999985\n"
     ]
    }
   ],
   "source": [
    "test_stat, p_value = ttest_1samp(abtest.time_spent_on_the_page, popmean = 5.377800, alternative = 'greater')\n",
    "print('The p-value is ', p_value)"
   ]
  },
  {
   "cell_type": "code",
   "execution_count": 25,
   "id": "b37699a3",
   "metadata": {},
   "outputs": [
    {
     "name": "stdout",
     "output_type": "stream",
     "text": [
      "The p-value is  0.49999999999999967\n"
     ]
    }
   ],
   "source": [
    "\n",
    "test_stat,p_value = ttest_1samp(abtest.groupby(\"landing_page\")[\"time_spent_on_the_page\"].mean(), popmean = 5.377800, alternative = 'greater')\n",
    "print('The p-value is ', p_value)"
   ]
  },
  {
   "cell_type": "markdown",
   "id": "193125e4",
   "metadata": {},
   "source": [
    "As the p-value is much greater than the level of significance 0.05, we fail reject the null hypothesis. Thus, we do not have enough statistical evidence to say that the users spend more time on the new landing page than the old landing page. "
   ]
  },
  {
   "cell_type": "code",
   "execution_count": 102,
   "id": "8c11e7e5",
   "metadata": {
    "scrolled": false
   },
   "outputs": [
    {
     "name": "stdout",
     "output_type": "stream",
     "text": [
      "landing_page\n",
      "new    6.2232\n",
      "old    4.5324\n",
      "Name: time_spent_on_the_page, dtype: float64\n"
     ]
    },
    {
     "data": {
      "image/png": "[encoded data removed]",
      "text/plain": [
       "<Figure size 432x432 with 1 Axes>"
      ]
     },
     "metadata": {
      "needs_background": "light"
     },
     "output_type": "display_data"
    }
   ],
   "source": [
    "print(abtest.groupby(\"landing_page\")[\"time_spent_on_the_page\"].mean())\n",
    "\n",
    "# draw the boxplot for visualization \n",
    "fig, ax = plt.subplots(figsize = (6,6))\n",
    "a = sns.boxplot(x= \"landing_page\", y = 'time_spent_on_the_page' , data = abtest, hue = 'landing_page')\n",
    "a.set_title(\"Landing Page\", fontsize=15)\n",
    "plt.show()"
   ]
  },
  {
   "cell_type": "markdown",
   "id": "2695a96a",
   "metadata": {},
   "source": [
    "### Is the conversion rate (the proportion of users who visit the landing page and get converted) for the new page greater than the conversion rate for the old page?"
   ]
  },
  {
   "cell_type": "markdown",
   "id": "048d84ff",
   "metadata": {},
   "source": [
    "'landing_page' and 'converted' are two categorical variables.\n",
    "\n",
    "We want to see if the proportion of converted rate in the new landing page is significantly different from the proportion of converted rate in old landing page.\n",
    "\n",
    "H0: The proportion of converted in the new landing page is equal to the proportion of converted in the old landing page.\n",
    "\n",
    "Ha: The proportion of converted in the new landing page is not equal to the proportion of converted in the old landing page."
   ]
  },
  {
   "cell_type": "code",
   "execution_count": 30,
   "id": "af3af738",
   "metadata": {},
   "outputs": [
    {
     "data": {
      "text/html": [
       "<div>\n",
       "<style scoped>\n",
       "    .dataframe tbody tr th:only-of-type {\n",
       "        vertical-align: middle;\n",
       "    }\n",
       "\n",
       "    .dataframe tbody tr th {\n",
       "        vertical-align: top;\n",
       "    }\n",
       "\n",
       "    .dataframe thead th {\n",
       "        text-align: right;\n",
       "    }\n",
       "</style>\n",
       "<table border=\"1\" class=\"dataframe\">\n",
       "  <thead>\n",
       "    <tr style=\"text-align: right;\">\n",
       "      <th>converted</th>\n",
       "      <th>no</th>\n",
       "      <th>yes</th>\n",
       "    </tr>\n",
       "    <tr>\n",
       "      <th>landing_page</th>\n",
       "      <th></th>\n",
       "      <th></th>\n",
       "    </tr>\n",
       "  </thead>\n",
       "  <tbody>\n",
       "    <tr>\n",
       "      <th>new</th>\n",
       "      <td>17</td>\n",
       "      <td>33</td>\n",
       "    </tr>\n",
       "    <tr>\n",
       "      <th>old</th>\n",
       "      <td>29</td>\n",
       "      <td>21</td>\n",
       "    </tr>\n",
       "  </tbody>\n",
       "</table>\n",
       "</div>"
      ],
      "text/plain": [
       "converted     no  yes\n",
       "landing_page         \n",
       "new           17   33\n",
       "old           29   21"
      ]
     },
     "execution_count": 30,
     "metadata": {},
     "output_type": "execute_result"
    }
   ],
   "source": [
    "pd.crosstab(abtest.landing_page,abtest.converted)"
   ]
  },
  {
   "cell_type": "code",
   "execution_count": 39,
   "id": "415e70c2",
   "metadata": {},
   "outputs": [
    {
     "name": "stdout",
     "output_type": "stream",
     "text": [
      "The numbers of new and old converted pages are 33 and 21 respectively\n",
      "The total numbers of new and old are 50 and 50 respectively\n"
     ]
    }
   ],
   "source": [
    "# number of female smokers\n",
    "converted_new = abtest[abtest['landing_page']=='new'].converted.value_counts()['yes']\n",
    "# number of male smokers\n",
    "converted_old = abtest[abtest['landing_page']=='old'].converted.value_counts()['yes']\n",
    "\n",
    "print('The numbers of new and old converted pages are {0} and {1} respectively'.format(converted_new, converted_old))\n",
    "\n",
    "# number of females in the data\n",
    "n_new = abtest.landing_page.value_counts()['new']\n",
    "\n",
    "# number of males in the data\n",
    "n_old = abtest.landing_page.value_counts()['old']\n",
    "\n",
    "print('The total numbers of new and old are {0} and {1} respectively'.format(n_new, n_old))"
   ]
  },
  {
   "cell_type": "code",
   "execution_count": 43,
   "id": "4f943a25",
   "metadata": {},
   "outputs": [
    {
     "name": "stdout",
     "output_type": "stream",
     "text": [
      "The p-value is 0.016052616408112556\n"
     ]
    }
   ],
   "source": [
    "# find the p-value using proportion_ztest\n",
    "from statsmodels.stats.proportion import proportions_ztest\n",
    "stat, pval = proportions_ztest([converted_new, converted_old],[n_new, n_old] , alternative = 'two-sided')\n",
    "\n",
    "# print the p-value\n",
    "print('The p-value is '+ str(pval))"
   ]
  },
  {
   "cell_type": "markdown",
   "id": "9802fe2c",
   "metadata": {},
   "source": [
    "Since the pvalue is < 0.05, we reject the null hypothesis. Hence, we have enough statistical evidence to say that the proportion of converted in the new landing page is not equal to the proportion of converted in the old landing page.\n",
    "\n"
   ]
  },
  {
   "cell_type": "markdown",
   "id": "52cbe40c",
   "metadata": {},
   "source": [
    "### Does the converted status depend on the preferred language?"
   ]
  },
  {
   "cell_type": "markdown",
   "id": "ec5d7276",
   "metadata": {},
   "source": [
    "Let's write the null and alternative hypothesis\n",
    "We will test the null hypothesis\n",
    "\n",
    "𝐻0:  Converted status is independent of preffered language.\n",
    "\n",
    "against the alternate hypothesis\n",
    "\n",
    "𝐻𝑎:  Converted status depends on preffered language.\n",
    "\n",
    "Test at 0.05 level of significance whether the data provide sufficient evidence to conclude that the converted status depend on the preferred language"
   ]
  },
  {
   "cell_type": "code",
   "execution_count": 108,
   "id": "049a0ff3",
   "metadata": {},
   "outputs": [
    {
     "data": {
      "text/html": [
       "<div>\n",
       "<style scoped>\n",
       "    .dataframe tbody tr th:only-of-type {\n",
       "        vertical-align: middle;\n",
       "    }\n",
       "\n",
       "    .dataframe tbody tr th {\n",
       "        vertical-align: top;\n",
       "    }\n",
       "\n",
       "    .dataframe thead th {\n",
       "        text-align: right;\n",
       "    }\n",
       "</style>\n",
       "<table border=\"1\" class=\"dataframe\">\n",
       "  <thead>\n",
       "    <tr style=\"text-align: right;\">\n",
       "      <th>language_preferred</th>\n",
       "      <th>English</th>\n",
       "      <th>French</th>\n",
       "      <th>Spanish</th>\n",
       "    </tr>\n",
       "    <tr>\n",
       "      <th>converted</th>\n",
       "      <th></th>\n",
       "      <th></th>\n",
       "      <th></th>\n",
       "    </tr>\n",
       "  </thead>\n",
       "  <tbody>\n",
       "    <tr>\n",
       "      <th>no</th>\n",
       "      <td>11</td>\n",
       "      <td>19</td>\n",
       "      <td>16</td>\n",
       "    </tr>\n",
       "    <tr>\n",
       "      <th>yes</th>\n",
       "      <td>21</td>\n",
       "      <td>15</td>\n",
       "      <td>18</td>\n",
       "    </tr>\n",
       "  </tbody>\n",
       "</table>\n",
       "</div>"
      ],
      "text/plain": [
       "language_preferred  English  French  Spanish\n",
       "converted                                   \n",
       "no                       11      19       16\n",
       "yes                      21      15       18"
      ]
     },
     "execution_count": 108,
     "metadata": {},
     "output_type": "execute_result"
    }
   ],
   "source": [
    "pd.crosstab(abtest.converted,abtest.language_preferred)"
   ]
  },
  {
   "cell_type": "code",
   "execution_count": 109,
   "id": "bcd9d2aa",
   "metadata": {},
   "outputs": [],
   "source": [
    "expected=pd.crosstab(abtest.converted,abtest.language_preferred)"
   ]
  },
  {
   "cell_type": "code",
   "execution_count": 110,
   "id": "80adbf7f",
   "metadata": {},
   "outputs": [
    {
     "data": {
      "text/plain": [
       "yes    54\n",
       "no     46\n",
       "Name: converted, dtype: int64"
      ]
     },
     "execution_count": 110,
     "metadata": {},
     "output_type": "execute_result"
    }
   ],
   "source": [
    "abtest.converted.value_counts()"
   ]
  },
  {
   "cell_type": "code",
   "execution_count": 111,
   "id": "b944cc49",
   "metadata": {},
   "outputs": [
    {
     "data": {
      "text/plain": [
       "French     34\n",
       "Spanish    34\n",
       "English    32\n",
       "Name: language_preferred, dtype: int64"
      ]
     },
     "execution_count": 111,
     "metadata": {},
     "output_type": "execute_result"
    }
   ],
   "source": [
    "abtest.language_preferred.value_counts()"
   ]
  },
  {
   "cell_type": "code",
   "execution_count": 112,
   "id": "dccaea9b",
   "metadata": {
    "scrolled": true
   },
   "outputs": [
    {
     "name": "stdout",
     "output_type": "stream",
     "text": [
      "The p-value is 0.21298887487543447\n"
     ]
    }
   ],
   "source": [
    "from scipy.stats import chi2_contingency\n",
    "\n",
    "# find the p-value\n",
    "chi, p_value, dof, expected = chi2_contingency(expected)\n",
    "print('The p-value is', p_value)"
   ]
  },
  {
   "cell_type": "markdown",
   "id": "b67d246a",
   "metadata": {},
   "source": [
    "As the p-value is much more than the significance level, we cannot reject the null hypothesis. Hence, we do not have enough statistical significance to conclude that the converted status depend on the preferred language at 5% significance level."
   ]
  },
  {
   "cell_type": "markdown",
   "id": "3dfdb91b",
   "metadata": {},
   "source": [
    "### Is the mean time spent on the new page same for the different language users?"
   ]
  },
  {
   "cell_type": "code",
   "execution_count": 173,
   "id": "15250106",
   "metadata": {},
   "outputs": [
    {
     "name": "stdout",
     "output_type": "stream",
     "text": [
      "language_preferred\n",
      "English    5.559063\n",
      "French     5.253235\n",
      "Spanish    5.331765\n",
      "Name: time_spent_on_the_page, dtype: float64\n"
     ]
    },
    {
     "data": {
      "image/png": "[encoded data removed]",
      "text/plain": [
       "<Figure size 432x432 with 1 Axes>"
      ]
     },
     "metadata": {
      "needs_background": "light"
     },
     "output_type": "display_data"
    }
   ],
   "source": [
    "print(abtest.groupby(\"language_preferred\")[\"time_spent_on_the_page\"].mean())\n",
    "\n",
    "# draw the boxplot for visualization \n",
    "fig, ax = plt.subplots(figsize = (6,6))\n",
    "a = sns.boxplot(x= \"language_preferred\", y = 'time_spent_on_the_page' , data = abtest, hue = 'language_preferred')\n",
    "a.set_title(\"language_preferred\", fontsize=15)\n",
    "plt.show()"
   ]
  },
  {
   "cell_type": "code",
   "execution_count": 176,
   "id": "e78908bf",
   "metadata": {},
   "outputs": [
    {
     "name": "stdout",
     "output_type": "stream",
     "text": [
      "    user_id      group landing_page  time_spent_on_the_page converted  \\\n",
      "0    546592    control          old                    3.48        no   \n",
      "2    546462  treatment          new                    4.40        no   \n",
      "4    546459  treatment          new                    4.75       yes   \n",
      "7    546581    control          old                    6.53       yes   \n",
      "10   546588    control          old                    6.21       yes   \n",
      "12   546491  treatment          new                    5.86       yes   \n",
      "14   546578    control          old                    8.72       yes   \n",
      "15   546466  treatment          new                    6.27       yes   \n",
      "21   546584    control          old                    7.03       yes   \n",
      "24   546456  treatment          new                    6.18        no   \n",
      "27   546586    control          old                    4.05        no   \n",
      "32   546585    control          old                    5.39       yes   \n",
      "33   546577    control          old                    4.52        no   \n",
      "34   546587    control          old                    4.46        no   \n",
      "38   546487  treatment          new                    1.65        no   \n",
      "39   546589    control          old                    0.19        no   \n",
      "42   546489  treatment          new                    7.16       yes   \n",
      "47   546458  treatment          new                    7.23       yes   \n",
      "48   546492  treatment          new                    8.08       yes   \n",
      "52   546479  treatment          new                    6.47       yes   \n",
      "53   546576    control          old                    4.71        no   \n",
      "54   546482  treatment          new                    6.41       yes   \n",
      "63   546590    control          old                    5.47        no   \n",
      "67   546582    control          old                    4.75       yes   \n",
      "68   546484  treatment          new                    6.70        no   \n",
      "69   546579    control          old                    2.23        no   \n",
      "74   546591    control          old                    4.87        no   \n",
      "75   546583    control          old                    6.57       yes   \n",
      "77   546485  treatment          new                    3.88        no   \n",
      "82   546463  treatment          new                    5.74       yes   \n",
      "83   546580    control          old                    2.90        no   \n",
      "95   546446  treatment          new                    5.15        no   \n",
      "97   546472  treatment          new                    7.07       yes   \n",
      "98   546481  treatment          new                    6.20       yes   \n",
      "\n",
      "   language_preferred  \n",
      "0             Spanish  \n",
      "2             Spanish  \n",
      "4             Spanish  \n",
      "7             Spanish  \n",
      "10            Spanish  \n",
      "12            Spanish  \n",
      "14            Spanish  \n",
      "15            Spanish  \n",
      "21            Spanish  \n",
      "24            Spanish  \n",
      "27            Spanish  \n",
      "32            Spanish  \n",
      "33            Spanish  \n",
      "34            Spanish  \n",
      "38            Spanish  \n",
      "39            Spanish  \n",
      "42            Spanish  \n",
      "47            Spanish  \n",
      "48            Spanish  \n",
      "52            Spanish  \n",
      "53            Spanish  \n",
      "54            Spanish  \n",
      "63            Spanish  \n",
      "67            Spanish  \n",
      "68            Spanish  \n",
      "69            Spanish  \n",
      "74            Spanish  \n",
      "75            Spanish  \n",
      "77            Spanish  \n",
      "82            Spanish  \n",
      "83            Spanish  \n",
      "95            Spanish  \n",
      "97            Spanish  \n",
      "98            Spanish   1      7.13\n",
      "2      4.40\n",
      "4      4.75\n",
      "6      5.25\n",
      "8     10.71\n",
      "12     5.86\n",
      "13     6.03\n",
      "15     6.27\n",
      "16     8.73\n",
      "22     3.65\n",
      "23     7.02\n",
      "24     6.18\n",
      "25     4.39\n",
      "26     9.49\n",
      "28     7.81\n",
      "30     5.41\n",
      "38     1.65\n",
      "42     7.16\n",
      "43     7.16\n",
      "44     3.91\n",
      "46     5.37\n",
      "47     7.23\n",
      "48     8.08\n",
      "49    10.50\n",
      "51     5.65\n",
      "52     6.47\n",
      "54     6.41\n",
      "57     8.30\n",
      "60     6.01\n",
      "61     6.79\n",
      "65     7.27\n",
      "68     6.70\n",
      "71     5.42\n",
      "72     5.08\n",
      "73     7.46\n",
      "77     3.88\n",
      "78     9.12\n",
      "80     4.68\n",
      "81     5.26\n",
      "82     5.74\n",
      "86     6.71\n",
      "87     3.68\n",
      "88     3.30\n",
      "90     5.40\n",
      "91     8.47\n",
      "93     4.94\n",
      "95     5.15\n",
      "97     7.07\n",
      "98     6.20\n",
      "99     5.86\n",
      "Name: time_spent_on_the_page, dtype: float64     user_id      group landing_page  time_spent_on_the_page converted  \\\n",
      "1    546468  treatment          new                    7.13       yes   \n",
      "5    546558    control          old                    5.28       yes   \n",
      "9    546548    control          old                    2.08        no   \n",
      "11   546546    control          old                    2.58       yes   \n",
      "16   546443  treatment          new                    8.73        no   \n",
      "17   546555    control          old                    0.40        no   \n",
      "18   546493    control          old                   10.30       yes   \n",
      "19   546549    control          old                    3.88       yes   \n",
      "22   546450  treatment          new                    3.65        no   \n",
      "23   546475  treatment          new                    7.02       yes   \n",
      "25   546455  treatment          new                    4.39        no   \n",
      "26   546469  treatment          new                    9.49       yes   \n",
      "30   546464  treatment          new                    5.41       yes   \n",
      "31   546556    control          old                    3.52       yes   \n",
      "35   546552    control          old                    8.50       yes   \n",
      "36   546551    control          old                    3.13        no   \n",
      "37   546557    control          old                    6.04       yes   \n",
      "43   546453  treatment          new                    7.16       yes   \n",
      "44   546488  treatment          new                    3.91        no   \n",
      "49   546473  treatment          new                   10.50       yes   \n",
      "50   546554    control          old                    0.22        no   \n",
      "51   546457  treatment          new                    5.65        no   \n",
      "64   546553    control          old                    5.96       yes   \n",
      "66   546545    control          old                    6.60       yes   \n",
      "72   546452  treatment          new                    5.08       yes   \n",
      "73   546444  treatment          new                    7.46       yes   \n",
      "79   546547    control          old                    3.21       yes   \n",
      "86   546465  treatment          new                    6.71        no   \n",
      "91   546451  treatment          new                    8.47       yes   \n",
      "94   546550    control          old                    3.05        no   \n",
      "96   546544    control          old                    6.52       yes   \n",
      "99   546483  treatment          new                    5.86       yes   \n",
      "\n",
      "   language_preferred  \n",
      "1             English  \n",
      "5             English  \n",
      "9             English  \n",
      "11            English  \n",
      "16            English  \n",
      "17            English  \n",
      "18            English  \n",
      "19            English  \n",
      "22            English  \n",
      "23            English  \n",
      "25            English  \n",
      "26            English  \n",
      "30            English  \n",
      "31            English  \n",
      "35            English  \n",
      "36            English  \n",
      "37            English  \n",
      "43            English  \n",
      "44            English  \n",
      "49            English  \n",
      "50            English  \n",
      "51            English  \n",
      "64            English  \n",
      "66            English  \n",
      "72            English  \n",
      "73            English  \n",
      "79            English  \n",
      "86            English  \n",
      "91            English  \n",
      "94            English  \n",
      "96            English  \n",
      "99            English   1      7.13\n",
      "2      4.40\n",
      "4      4.75\n",
      "6      5.25\n",
      "8     10.71\n",
      "12     5.86\n",
      "13     6.03\n",
      "15     6.27\n",
      "16     8.73\n",
      "22     3.65\n",
      "23     7.02\n",
      "24     6.18\n",
      "25     4.39\n",
      "26     9.49\n",
      "28     7.81\n",
      "30     5.41\n",
      "38     1.65\n",
      "42     7.16\n",
      "43     7.16\n",
      "44     3.91\n",
      "46     5.37\n",
      "47     7.23\n",
      "48     8.08\n",
      "49    10.50\n",
      "51     5.65\n",
      "52     6.47\n",
      "54     6.41\n",
      "57     8.30\n",
      "60     6.01\n",
      "61     6.79\n",
      "65     7.27\n",
      "68     6.70\n",
      "71     5.42\n",
      "72     5.08\n",
      "73     7.46\n",
      "77     3.88\n",
      "78     9.12\n",
      "80     4.68\n",
      "81     5.26\n",
      "82     5.74\n",
      "86     6.71\n",
      "87     3.68\n",
      "88     3.30\n",
      "90     5.40\n",
      "91     8.47\n",
      "93     4.94\n",
      "95     5.15\n",
      "97     7.07\n",
      "98     6.20\n",
      "99     5.86\n",
      "Name: time_spent_on_the_page, dtype: float64     user_id      group landing_page  time_spent_on_the_page converted  \\\n",
      "3    546567    control          old                    3.02        no   \n",
      "6    546448  treatment          new                    5.25       yes   \n",
      "8    546461  treatment          new                   10.71       yes   \n",
      "13   546478  treatment          new                    6.03       yes   \n",
      "20   546560    control          old                    2.66        no   \n",
      "28   546471  treatment          new                    7.81       yes   \n",
      "29   546575    control          old                    4.28        no   \n",
      "40   546559    control          old                    8.46       yes   \n",
      "41   546570    control          old                    1.92        no   \n",
      "45   546565    control          old                    8.02        no   \n",
      "46   546460  treatment          new                    5.37       yes   \n",
      "55   546563    control          old                    0.93        no   \n",
      "56   546569    control          old                    1.81        no   \n",
      "57   546454  treatment          new                    8.30       yes   \n",
      "58   546562    control          old                    7.40       yes   \n",
      "59   546574    control          old                    9.15        no   \n",
      "60   546470  treatment          new                    6.01       yes   \n",
      "61   546467  treatment          new                    6.79       yes   \n",
      "62   546572    control          old                    4.18        no   \n",
      "65   546445  treatment          new                    7.27       yes   \n",
      "70   546568    control          old                    0.40        no   \n",
      "71   546476  treatment          new                    5.42       yes   \n",
      "76   546573    control          old                    1.44        no   \n",
      "78   546486  treatment          new                    9.12       yes   \n",
      "80   546490  treatment          new                    4.68        no   \n",
      "81   546449  treatment          new                    5.26       yes   \n",
      "84   546571    control          old                    4.30        no   \n",
      "85   546564    control          old                    0.91        no   \n",
      "87   546480  treatment          new                    3.68        no   \n",
      "88   546447  treatment          new                    3.30        no   \n",
      "89   546561    control          old                    6.04       yes   \n",
      "90   546477  treatment          new                    5.40        no   \n",
      "92   546566    control          old                    8.35        no   \n",
      "93   546474  treatment          new                    4.94        no   \n",
      "\n",
      "   language_preferred  \n",
      "3              French  \n",
      "6              French  \n",
      "8              French  \n",
      "13             French  \n",
      "20             French  \n",
      "28             French  \n",
      "29             French  \n",
      "40             French  \n",
      "41             French  \n",
      "45             French  \n",
      "46             French  \n",
      "55             French  \n",
      "56             French  \n",
      "57             French  \n",
      "58             French  \n",
      "59             French  \n",
      "60             French  \n",
      "61             French  \n",
      "62             French  \n",
      "65             French  \n",
      "70             French  \n",
      "71             French  \n",
      "76             French  \n",
      "78             French  \n",
      "80             French  \n",
      "81             French  \n",
      "84             French  \n",
      "85             French  \n",
      "87             French  \n",
      "88             French  \n",
      "89             French  \n",
      "90             French  \n",
      "92             French  \n",
      "93             French   1      7.13\n",
      "2      4.40\n",
      "4      4.75\n",
      "6      5.25\n",
      "8     10.71\n",
      "12     5.86\n",
      "13     6.03\n",
      "15     6.27\n",
      "16     8.73\n",
      "22     3.65\n",
      "23     7.02\n",
      "24     6.18\n",
      "25     4.39\n",
      "26     9.49\n",
      "28     7.81\n",
      "30     5.41\n",
      "38     1.65\n",
      "42     7.16\n",
      "43     7.16\n",
      "44     3.91\n",
      "46     5.37\n",
      "47     7.23\n",
      "48     8.08\n",
      "49    10.50\n",
      "51     5.65\n",
      "52     6.47\n",
      "54     6.41\n",
      "57     8.30\n",
      "60     6.01\n",
      "61     6.79\n",
      "65     7.27\n",
      "68     6.70\n",
      "71     5.42\n",
      "72     5.08\n",
      "73     7.46\n",
      "77     3.88\n",
      "78     9.12\n",
      "80     4.68\n",
      "81     5.26\n",
      "82     5.74\n",
      "86     6.71\n",
      "87     3.68\n",
      "88     3.30\n",
      "90     5.40\n",
      "91     8.47\n",
      "93     4.94\n",
      "95     5.15\n",
      "97     7.07\n",
      "98     6.20\n",
      "99     5.86\n",
      "Name: time_spent_on_the_page, dtype: float64\n"
     ]
    },
    {
     "data": {
      "image/png": "[encoded data removed]",
      "text/plain": [
       "<Figure size 432x432 with 1 Axes>"
      ]
     },
     "metadata": {
      "needs_background": "light"
     },
     "output_type": "display_data"
    }
   ],
   "source": [
    "print(abtest[abtest['language_preferred'] == 'Spanish'], abtest[abtest['landing_page']=='new']['time_spent_on_the_page'],\n",
    "                              abtest[abtest['language_preferred'] == 'English'], abtest[abtest['landing_page']=='new']['time_spent_on_the_page'],\n",
    "                              abtest[abtest['language_preferred'] == 'French'], abtest[abtest['landing_page']=='new']['time_spent_on_the_page'])\n",
    "fig, ax = plt.subplots(figsize = (6,6))\n",
    "a = sns.boxplot(x= \"language_preferred\", y = 'time_spent_on_the_page' , data = abtest, hue = 'language_preferred')\n",
    "a.set_title(\"language_preferred\", fontsize=15)\n",
    "plt.show()"
   ]
  },
  {
   "cell_type": "code",
   "execution_count": 124,
   "id": "3db91b6b",
   "metadata": {},
   "outputs": [
    {
     "data": {
      "text/html": [
       "<div>\n",
       "<style scoped>\n",
       "    .dataframe tbody tr th:only-of-type {\n",
       "        vertical-align: middle;\n",
       "    }\n",
       "\n",
       "    .dataframe tbody tr th {\n",
       "        vertical-align: top;\n",
       "    }\n",
       "\n",
       "    .dataframe thead th {\n",
       "        text-align: right;\n",
       "    }\n",
       "</style>\n",
       "<table border=\"1\" class=\"dataframe\">\n",
       "  <thead>\n",
       "    <tr style=\"text-align: right;\">\n",
       "      <th></th>\n",
       "      <th>language_preferred</th>\n",
       "      <th>English</th>\n",
       "      <th>French</th>\n",
       "      <th>Spanish</th>\n",
       "    </tr>\n",
       "    <tr>\n",
       "      <th>landing_page</th>\n",
       "      <th>time_spent_on_the_page</th>\n",
       "      <th></th>\n",
       "      <th></th>\n",
       "      <th></th>\n",
       "    </tr>\n",
       "  </thead>\n",
       "  <tbody>\n",
       "    <tr>\n",
       "      <th rowspan=\"5\" valign=\"top\">new</th>\n",
       "      <th>1.65</th>\n",
       "      <td>0</td>\n",
       "      <td>0</td>\n",
       "      <td>1</td>\n",
       "    </tr>\n",
       "    <tr>\n",
       "      <th>3.30</th>\n",
       "      <td>0</td>\n",
       "      <td>1</td>\n",
       "      <td>0</td>\n",
       "    </tr>\n",
       "    <tr>\n",
       "      <th>3.65</th>\n",
       "      <td>1</td>\n",
       "      <td>0</td>\n",
       "      <td>0</td>\n",
       "    </tr>\n",
       "    <tr>\n",
       "      <th>3.68</th>\n",
       "      <td>0</td>\n",
       "      <td>1</td>\n",
       "      <td>0</td>\n",
       "    </tr>\n",
       "    <tr>\n",
       "      <th>3.88</th>\n",
       "      <td>0</td>\n",
       "      <td>0</td>\n",
       "      <td>1</td>\n",
       "    </tr>\n",
       "    <tr>\n",
       "      <th>...</th>\n",
       "      <th>...</th>\n",
       "      <td>...</td>\n",
       "      <td>...</td>\n",
       "      <td>...</td>\n",
       "    </tr>\n",
       "    <tr>\n",
       "      <th rowspan=\"5\" valign=\"top\">old</th>\n",
       "      <th>8.46</th>\n",
       "      <td>0</td>\n",
       "      <td>1</td>\n",
       "      <td>0</td>\n",
       "    </tr>\n",
       "    <tr>\n",
       "      <th>8.50</th>\n",
       "      <td>1</td>\n",
       "      <td>0</td>\n",
       "      <td>0</td>\n",
       "    </tr>\n",
       "    <tr>\n",
       "      <th>8.72</th>\n",
       "      <td>0</td>\n",
       "      <td>0</td>\n",
       "      <td>1</td>\n",
       "    </tr>\n",
       "    <tr>\n",
       "      <th>9.15</th>\n",
       "      <td>0</td>\n",
       "      <td>1</td>\n",
       "      <td>0</td>\n",
       "    </tr>\n",
       "    <tr>\n",
       "      <th>10.30</th>\n",
       "      <td>1</td>\n",
       "      <td>0</td>\n",
       "      <td>0</td>\n",
       "    </tr>\n",
       "  </tbody>\n",
       "</table>\n",
       "<p>96 rows × 3 columns</p>\n",
       "</div>"
      ],
      "text/plain": [
       "language_preferred                   English  French  Spanish\n",
       "landing_page time_spent_on_the_page                          \n",
       "new          1.65                          0       0        1\n",
       "             3.30                          0       1        0\n",
       "             3.65                          1       0        0\n",
       "             3.68                          0       1        0\n",
       "             3.88                          0       0        1\n",
       "...                                      ...     ...      ...\n",
       "old          8.46                          0       1        0\n",
       "             8.50                          1       0        0\n",
       "             8.72                          0       0        1\n",
       "             9.15                          0       1        0\n",
       "             10.30                         1       0        0\n",
       "\n",
       "[96 rows x 3 columns]"
      ]
     },
     "execution_count": 124,
     "metadata": {},
     "output_type": "execute_result"
    }
   ],
   "source": [
    "pd.crosstab([abtest.landing_page,abtest.time_spent_on_the_page],abtest.language_preferred)"
   ]
  },
  {
   "cell_type": "code",
   "execution_count": 175,
   "id": "f84faa85",
   "metadata": {},
   "outputs": [
    {
     "name": "stdout",
     "output_type": "stream",
     "text": [
      "0.34722222222222227\n"
     ]
    }
   ],
   "source": [
    "print(last_question.mean())\n"
   ]
  },
  {
   "cell_type": "markdown",
   "id": "64b22a42",
   "metadata": {},
   "source": [
    "### Let's write the null and alternative hypothesis\n",
    "\n",
    "Let $\\mu_1, \\mu_2, \\mu_3$ be the means of time spend on the page for preferred language Spanish, English and French respectively.\n",
    "\n",
    "We will test the null hypothesis\n",
    "\n",
    ">$H_0: \\mu_1 = \\mu_2 = \\mu_3$\n",
    "\n",
    "against the alternative hypothesis\n",
    "\n",
    ">$H_a: $ At least one avarage time spend is different from the rest."
   ]
  },
  {
   "cell_type": "code",
   "execution_count": 126,
   "id": "6b36be42",
   "metadata": {},
   "outputs": [
    {
     "name": "stdout",
     "output_type": "stream",
     "text": [
      "The p-value is 0.8665610536012648\n"
     ]
    }
   ],
   "source": [
    "from scipy.stats import f_oneway\n",
    "\n",
    "# perform one-way anova test\n",
    "test_stat, p_value = f_oneway(abtest.loc[abtest['language_preferred'] == 'Spanish', 'time_spent_on_the_page'],\n",
    "                              abtest.loc[abtest['language_preferred'] == 'English', 'time_spent_on_the_page'],\n",
    "                              abtest.loc[abtest['language_preferred'] == 'French', 'time_spent_on_the_page'])\n",
    "print('The p-value is ' + str(p_value))"
   ]
  },
  {
   "cell_type": "code",
   "execution_count": 169,
   "id": "1cda8eb2",
   "metadata": {},
   "outputs": [
    {
     "ename": "ValueError",
     "evalue": "could not convert string to float: 'control'",
     "output_type": "error",
     "traceback": [
      "\u001b[1;31m---------------------------------------------------------------------------\u001b[0m",
      "\u001b[1;31mValueError\u001b[0m                                Traceback (most recent call last)",
      "\u001b[1;32m<ipython-input-169-43c6f2492589>\u001b[0m in \u001b[0;36m<module>\u001b[1;34m\u001b[0m\n\u001b[0;32m      2\u001b[0m \u001b[1;33m\u001b[0m\u001b[0m\n\u001b[0;32m      3\u001b[0m \u001b[1;31m# perform one-way anova test\u001b[0m\u001b[1;33m\u001b[0m\u001b[1;33m\u001b[0m\u001b[1;33m\u001b[0m\u001b[0m\n\u001b[1;32m----> 4\u001b[1;33m test_stat, p_value = f_oneway(abtest[abtest['language_preferred'] == 'Spanish'], abtest[abtest['landing_page']=='new']['time_spent_on_the_page'],\n\u001b[0m\u001b[0;32m      5\u001b[0m                               \u001b[0mabtest\u001b[0m\u001b[1;33m[\u001b[0m\u001b[0mabtest\u001b[0m\u001b[1;33m[\u001b[0m\u001b[1;34m'language_preferred'\u001b[0m\u001b[1;33m]\u001b[0m \u001b[1;33m==\u001b[0m \u001b[1;34m'English'\u001b[0m\u001b[1;33m]\u001b[0m\u001b[1;33m,\u001b[0m \u001b[0mabtest\u001b[0m\u001b[1;33m[\u001b[0m\u001b[0mabtest\u001b[0m\u001b[1;33m[\u001b[0m\u001b[1;34m'landing_page'\u001b[0m\u001b[1;33m]\u001b[0m\u001b[1;33m==\u001b[0m\u001b[1;34m'new'\u001b[0m\u001b[1;33m]\u001b[0m\u001b[1;33m[\u001b[0m\u001b[1;34m'time_spent_on_the_page'\u001b[0m\u001b[1;33m]\u001b[0m\u001b[1;33m,\u001b[0m\u001b[1;33m\u001b[0m\u001b[1;33m\u001b[0m\u001b[0m\n\u001b[0;32m      6\u001b[0m                               abtest[abtest['language_preferred'] == 'French'], abtest[abtest['landing_page']=='new']['time_spent_on_the_page'])\n",
      "\u001b[1;32m~\\Anaconda3\\lib\\site-packages\\scipy\\stats\\stats.py\u001b[0m in \u001b[0;36mf_oneway\u001b[1;34m(axis, *args)\u001b[0m\n\u001b[0;32m   3663\u001b[0m         \u001b[1;32mraise\u001b[0m \u001b[0mTypeError\u001b[0m\u001b[1;33m(\u001b[0m\u001b[1;34mf'at least two inputs are required; got {len(args)}.'\u001b[0m\u001b[1;33m)\u001b[0m\u001b[1;33m\u001b[0m\u001b[1;33m\u001b[0m\u001b[0m\n\u001b[0;32m   3664\u001b[0m \u001b[1;33m\u001b[0m\u001b[0m\n\u001b[1;32m-> 3665\u001b[1;33m     \u001b[0margs\u001b[0m \u001b[1;33m=\u001b[0m \u001b[1;33m[\u001b[0m\u001b[0mnp\u001b[0m\u001b[1;33m.\u001b[0m\u001b[0masarray\u001b[0m\u001b[1;33m(\u001b[0m\u001b[0marg\u001b[0m\u001b[1;33m,\u001b[0m \u001b[0mdtype\u001b[0m\u001b[1;33m=\u001b[0m\u001b[0mfloat\u001b[0m\u001b[1;33m)\u001b[0m \u001b[1;32mfor\u001b[0m \u001b[0marg\u001b[0m \u001b[1;32min\u001b[0m \u001b[0margs\u001b[0m\u001b[1;33m]\u001b[0m\u001b[1;33m\u001b[0m\u001b[1;33m\u001b[0m\u001b[0m\n\u001b[0m\u001b[0;32m   3666\u001b[0m \u001b[1;33m\u001b[0m\u001b[0m\n\u001b[0;32m   3667\u001b[0m     \u001b[1;31m# ANOVA on N groups, each in its own array\u001b[0m\u001b[1;33m\u001b[0m\u001b[1;33m\u001b[0m\u001b[1;33m\u001b[0m\u001b[0m\n",
      "\u001b[1;32m~\\Anaconda3\\lib\\site-packages\\scipy\\stats\\stats.py\u001b[0m in \u001b[0;36m<listcomp>\u001b[1;34m(.0)\u001b[0m\n\u001b[0;32m   3663\u001b[0m         \u001b[1;32mraise\u001b[0m \u001b[0mTypeError\u001b[0m\u001b[1;33m(\u001b[0m\u001b[1;34mf'at least two inputs are required; got {len(args)}.'\u001b[0m\u001b[1;33m)\u001b[0m\u001b[1;33m\u001b[0m\u001b[1;33m\u001b[0m\u001b[0m\n\u001b[0;32m   3664\u001b[0m \u001b[1;33m\u001b[0m\u001b[0m\n\u001b[1;32m-> 3665\u001b[1;33m     \u001b[0margs\u001b[0m \u001b[1;33m=\u001b[0m \u001b[1;33m[\u001b[0m\u001b[0mnp\u001b[0m\u001b[1;33m.\u001b[0m\u001b[0masarray\u001b[0m\u001b[1;33m(\u001b[0m\u001b[0marg\u001b[0m\u001b[1;33m,\u001b[0m \u001b[0mdtype\u001b[0m\u001b[1;33m=\u001b[0m\u001b[0mfloat\u001b[0m\u001b[1;33m)\u001b[0m \u001b[1;32mfor\u001b[0m \u001b[0marg\u001b[0m \u001b[1;32min\u001b[0m \u001b[0margs\u001b[0m\u001b[1;33m]\u001b[0m\u001b[1;33m\u001b[0m\u001b[1;33m\u001b[0m\u001b[0m\n\u001b[0m\u001b[0;32m   3666\u001b[0m \u001b[1;33m\u001b[0m\u001b[0m\n\u001b[0;32m   3667\u001b[0m     \u001b[1;31m# ANOVA on N groups, each in its own array\u001b[0m\u001b[1;33m\u001b[0m\u001b[1;33m\u001b[0m\u001b[1;33m\u001b[0m\u001b[0m\n",
      "\u001b[1;32m~\\Anaconda3\\lib\\site-packages\\numpy\\core\\_asarray.py\u001b[0m in \u001b[0;36masarray\u001b[1;34m(a, dtype, order, like)\u001b[0m\n\u001b[0;32m    100\u001b[0m         \u001b[1;32mreturn\u001b[0m \u001b[0m_asarray_with_like\u001b[0m\u001b[1;33m(\u001b[0m\u001b[0ma\u001b[0m\u001b[1;33m,\u001b[0m \u001b[0mdtype\u001b[0m\u001b[1;33m=\u001b[0m\u001b[0mdtype\u001b[0m\u001b[1;33m,\u001b[0m \u001b[0morder\u001b[0m\u001b[1;33m=\u001b[0m\u001b[0morder\u001b[0m\u001b[1;33m,\u001b[0m \u001b[0mlike\u001b[0m\u001b[1;33m=\u001b[0m\u001b[0mlike\u001b[0m\u001b[1;33m)\u001b[0m\u001b[1;33m\u001b[0m\u001b[1;33m\u001b[0m\u001b[0m\n\u001b[0;32m    101\u001b[0m \u001b[1;33m\u001b[0m\u001b[0m\n\u001b[1;32m--> 102\u001b[1;33m     \u001b[1;32mreturn\u001b[0m \u001b[0marray\u001b[0m\u001b[1;33m(\u001b[0m\u001b[0ma\u001b[0m\u001b[1;33m,\u001b[0m \u001b[0mdtype\u001b[0m\u001b[1;33m,\u001b[0m \u001b[0mcopy\u001b[0m\u001b[1;33m=\u001b[0m\u001b[1;32mFalse\u001b[0m\u001b[1;33m,\u001b[0m \u001b[0morder\u001b[0m\u001b[1;33m=\u001b[0m\u001b[0morder\u001b[0m\u001b[1;33m)\u001b[0m\u001b[1;33m\u001b[0m\u001b[1;33m\u001b[0m\u001b[0m\n\u001b[0m\u001b[0;32m    103\u001b[0m \u001b[1;33m\u001b[0m\u001b[0m\n\u001b[0;32m    104\u001b[0m \u001b[1;33m\u001b[0m\u001b[0m\n",
      "\u001b[1;32m~\\Anaconda3\\lib\\site-packages\\pandas\\core\\generic.py\u001b[0m in \u001b[0;36m__array__\u001b[1;34m(self, dtype)\u001b[0m\n\u001b[0;32m   1897\u001b[0m \u001b[1;33m\u001b[0m\u001b[0m\n\u001b[0;32m   1898\u001b[0m     \u001b[1;32mdef\u001b[0m \u001b[0m__array__\u001b[0m\u001b[1;33m(\u001b[0m\u001b[0mself\u001b[0m\u001b[1;33m,\u001b[0m \u001b[0mdtype\u001b[0m\u001b[1;33m=\u001b[0m\u001b[1;32mNone\u001b[0m\u001b[1;33m)\u001b[0m \u001b[1;33m->\u001b[0m \u001b[0mnp\u001b[0m\u001b[1;33m.\u001b[0m\u001b[0mndarray\u001b[0m\u001b[1;33m:\u001b[0m\u001b[1;33m\u001b[0m\u001b[1;33m\u001b[0m\u001b[0m\n\u001b[1;32m-> 1899\u001b[1;33m         \u001b[1;32mreturn\u001b[0m \u001b[0mnp\u001b[0m\u001b[1;33m.\u001b[0m\u001b[0masarray\u001b[0m\u001b[1;33m(\u001b[0m\u001b[0mself\u001b[0m\u001b[1;33m.\u001b[0m\u001b[0m_values\u001b[0m\u001b[1;33m,\u001b[0m \u001b[0mdtype\u001b[0m\u001b[1;33m=\u001b[0m\u001b[0mdtype\u001b[0m\u001b[1;33m)\u001b[0m\u001b[1;33m\u001b[0m\u001b[1;33m\u001b[0m\u001b[0m\n\u001b[0m\u001b[0;32m   1900\u001b[0m \u001b[1;33m\u001b[0m\u001b[0m\n\u001b[0;32m   1901\u001b[0m     def __array_wrap__(\n",
      "\u001b[1;32m~\\Anaconda3\\lib\\site-packages\\numpy\\core\\_asarray.py\u001b[0m in \u001b[0;36masarray\u001b[1;34m(a, dtype, order, like)\u001b[0m\n\u001b[0;32m    100\u001b[0m         \u001b[1;32mreturn\u001b[0m \u001b[0m_asarray_with_like\u001b[0m\u001b[1;33m(\u001b[0m\u001b[0ma\u001b[0m\u001b[1;33m,\u001b[0m \u001b[0mdtype\u001b[0m\u001b[1;33m=\u001b[0m\u001b[0mdtype\u001b[0m\u001b[1;33m,\u001b[0m \u001b[0morder\u001b[0m\u001b[1;33m=\u001b[0m\u001b[0morder\u001b[0m\u001b[1;33m,\u001b[0m \u001b[0mlike\u001b[0m\u001b[1;33m=\u001b[0m\u001b[0mlike\u001b[0m\u001b[1;33m)\u001b[0m\u001b[1;33m\u001b[0m\u001b[1;33m\u001b[0m\u001b[0m\n\u001b[0;32m    101\u001b[0m \u001b[1;33m\u001b[0m\u001b[0m\n\u001b[1;32m--> 102\u001b[1;33m     \u001b[1;32mreturn\u001b[0m \u001b[0marray\u001b[0m\u001b[1;33m(\u001b[0m\u001b[0ma\u001b[0m\u001b[1;33m,\u001b[0m \u001b[0mdtype\u001b[0m\u001b[1;33m,\u001b[0m \u001b[0mcopy\u001b[0m\u001b[1;33m=\u001b[0m\u001b[1;32mFalse\u001b[0m\u001b[1;33m,\u001b[0m \u001b[0morder\u001b[0m\u001b[1;33m=\u001b[0m\u001b[0morder\u001b[0m\u001b[1;33m)\u001b[0m\u001b[1;33m\u001b[0m\u001b[1;33m\u001b[0m\u001b[0m\n\u001b[0m\u001b[0;32m    103\u001b[0m \u001b[1;33m\u001b[0m\u001b[0m\n\u001b[0;32m    104\u001b[0m \u001b[1;33m\u001b[0m\u001b[0m\n",
      "\u001b[1;31mValueError\u001b[0m: could not convert string to float: 'control'"
     ]
    }
   ],
   "source": [
    "from scipy.stats import f_oneway\n",
    "\n",
    "# perform one-way anova test\n",
    "test_stat, p_value = f_oneway(abtest[abtest['language_preferred'] == 'Spanish'], abtest[abtest['landing_page']=='new']['time_spent_on_the_page'],\n",
    "                              abtest[abtest['language_preferred'] == 'English'], abtest[abtest['landing_page']=='new']['time_spent_on_the_page'],\n",
    "                              abtest[abtest['language_preferred'] == 'French'], abtest[abtest['landing_page']=='new']['time_spent_on_the_page'])\n",
    "print('The p-value is ' + str(p_value))"
   ]
  },
  {
   "cell_type": "code",
   "execution_count": 172,
   "id": "d55b2373",
   "metadata": {},
   "outputs": [
    {
     "data": {
      "text/plain": [
       "(    user_id      group landing_page  time_spent_on_the_page converted  \\\n",
       " 0    546592    control          old                    3.48        no   \n",
       " 2    546462  treatment          new                    4.40        no   \n",
       " 4    546459  treatment          new                    4.75       yes   \n",
       " 7    546581    control          old                    6.53       yes   \n",
       " 10   546588    control          old                    6.21       yes   \n",
       " 12   546491  treatment          new                    5.86       yes   \n",
       " 14   546578    control          old                    8.72       yes   \n",
       " 15   546466  treatment          new                    6.27       yes   \n",
       " 21   546584    control          old                    7.03       yes   \n",
       " 24   546456  treatment          new                    6.18        no   \n",
       " 27   546586    control          old                    4.05        no   \n",
       " 32   546585    control          old                    5.39       yes   \n",
       " 33   546577    control          old                    4.52        no   \n",
       " 34   546587    control          old                    4.46        no   \n",
       " 38   546487  treatment          new                    1.65        no   \n",
       " 39   546589    control          old                    0.19        no   \n",
       " 42   546489  treatment          new                    7.16       yes   \n",
       " 47   546458  treatment          new                    7.23       yes   \n",
       " 48   546492  treatment          new                    8.08       yes   \n",
       " 52   546479  treatment          new                    6.47       yes   \n",
       " 53   546576    control          old                    4.71        no   \n",
       " 54   546482  treatment          new                    6.41       yes   \n",
       " 63   546590    control          old                    5.47        no   \n",
       " 67   546582    control          old                    4.75       yes   \n",
       " 68   546484  treatment          new                    6.70        no   \n",
       " 69   546579    control          old                    2.23        no   \n",
       " 74   546591    control          old                    4.87        no   \n",
       " 75   546583    control          old                    6.57       yes   \n",
       " 77   546485  treatment          new                    3.88        no   \n",
       " 82   546463  treatment          new                    5.74       yes   \n",
       " 83   546580    control          old                    2.90        no   \n",
       " 95   546446  treatment          new                    5.15        no   \n",
       " 97   546472  treatment          new                    7.07       yes   \n",
       " 98   546481  treatment          new                    6.20       yes   \n",
       " \n",
       "    language_preferred  \n",
       " 0             Spanish  \n",
       " 2             Spanish  \n",
       " 4             Spanish  \n",
       " 7             Spanish  \n",
       " 10            Spanish  \n",
       " 12            Spanish  \n",
       " 14            Spanish  \n",
       " 15            Spanish  \n",
       " 21            Spanish  \n",
       " 24            Spanish  \n",
       " 27            Spanish  \n",
       " 32            Spanish  \n",
       " 33            Spanish  \n",
       " 34            Spanish  \n",
       " 38            Spanish  \n",
       " 39            Spanish  \n",
       " 42            Spanish  \n",
       " 47            Spanish  \n",
       " 48            Spanish  \n",
       " 52            Spanish  \n",
       " 53            Spanish  \n",
       " 54            Spanish  \n",
       " 63            Spanish  \n",
       " 67            Spanish  \n",
       " 68            Spanish  \n",
       " 69            Spanish  \n",
       " 74            Spanish  \n",
       " 75            Spanish  \n",
       " 77            Spanish  \n",
       " 82            Spanish  \n",
       " 83            Spanish  \n",
       " 95            Spanish  \n",
       " 97            Spanish  \n",
       " 98            Spanish  ,\n",
       " 6.2232)"
      ]
     },
     "execution_count": 172,
     "metadata": {},
     "output_type": "execute_result"
    }
   ],
   "source": [
    "abtest[abtest['language_preferred'] == 'Spanish'], abtest[abtest['landing_page']=='new']['time_spent_on_the_page']"
   ]
  },
  {
   "cell_type": "code",
   "execution_count": 150,
   "id": "09308160",
   "metadata": {},
   "outputs": [
    {
     "data": {
      "text/plain": [
       "6.2232"
      ]
     },
     "execution_count": 150,
     "metadata": {},
     "output_type": "execute_result"
    }
   ],
   "source": [
    "abtest[abtest['landing_page']=='new']['time_spent_on_the_page'].mean()"
   ]
  },
  {
   "cell_type": "markdown",
   "id": "410cd4c3",
   "metadata": {},
   "source": [
    "As the p-value is much more than the significance level, we cannot reject the null hypothesis. Hence, we do not have enough statistical significance to conclude that at least one language spends different time from the rest at 5% significance level."
   ]
  },
  {
   "cell_type": "markdown",
   "id": "de53a9a8",
   "metadata": {},
   "source": []
  }
 ],
 "metadata": {
  "kernelspec": {
   "display_name": "Python 3",
   "language": "python",
   "name": "python3"
  },
  "language_info": {
   "codemirror_mode": {
    "name": "ipython",
    "version": 3
   },
   "file_extension": ".py",
   "mimetype": "text/x-python",
   "name": "python",
   "nbconvert_exporter": "python",
   "pygments_lexer": "ipython3",
   "version": "3.8.8"
  }
 },
 "nbformat": 4,
 "nbformat_minor": 5
}
